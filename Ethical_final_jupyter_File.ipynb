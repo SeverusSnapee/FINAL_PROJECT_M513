{
  "nbformat": 4,
  "nbformat_minor": 0,
  "metadata": {
    "colab": {
      "provenance": []
    },
    "kernelspec": {
      "name": "python3",
      "display_name": "Python 3"
    },
    "language_info": {
      "name": "python"
    }
  },
  "cells": [
    {
      "cell_type": "markdown",
      "source": [
        "Title: Bias Mitigation in Machine Learning\n",
        "A Fairness-Aware Classification of Income Decisions using Reweighing (Adult Dataset)\n",
        "Name:Parabhjyot Singh\n",
        "Module: M515 – Ethical Issues for AI\n",
        "University: Gisma University of Applied Sciences\n",
        "Submission Date: July 3, 2025"
      ],
      "metadata": {
        "id": "EFOPCf5AT4WF"
      }
    },
    {
      "cell_type": "markdown",
      "source": [
        "## 1. Problem Statement\n",
        "\n",
        "In many industries, income prediction is used in hiring, loan approval, and insurance. However, these models may exhibit gender or race-based biases, perpetuating social inequality.\n",
        "\n",
        "This project addresses bias in the UCI Adult Income dataset, which predicts whether an individual's income exceeds $50K/year. We:\n",
        "\n",
        "- Detect gender bias in a logistic regression classifier.\n",
        "- Apply the Reweighing technique from AIF360 to mitigate it.\n",
        "- Evaluate changes in fairness and model performance.\n",
        "\n",
        "A fairer model can promote ethical AI deployment and avoid legal or reputational damage for organizations.\n"
      ],
      "metadata": {
        "id": "ASINS8cvUcrL"
      }
    },
    {
      "cell_type": "markdown",
      "source": [
        "## 2. Ethical Concerns\n",
        "\n",
        "The Adult dataset includes features like gender, race, and marital status, making it vulnerable to biased predictions. This is problematic because:\n",
        "\n",
        "- **Disparate treatment** can unfairly disadvantage women or minorities.\n",
        "- **Bias amplification** may reinforce existing societal inequalities.\n",
        "- **Accountability and transparency** are critical in automated decision-making systems.\n",
        "\n",
        "Fairness in income classification is vital to ensure equal opportunities and avoid discrimination.\n"
      ],
      "metadata": {
        "id": "FSXxAo5GV3tp"
      }
    },
    {
      "cell_type": "code",
      "source": [
        "!pip install aif360"
      ],
      "metadata": {
        "colab": {
          "base_uri": "https://localhost:8080/"
        },
        "id": "u4etEdSIUw2q",
        "outputId": "f3979e0e-9604-44c8-f075-657b176185c4"
      },
      "execution_count": 2,
      "outputs": [
        {
          "output_type": "stream",
          "name": "stdout",
          "text": [
            "Collecting aif360\n",
            "  Downloading aif360-0.6.1-py3-none-any.whl.metadata (5.0 kB)\n",
            "Requirement already satisfied: numpy>=1.16 in /usr/local/lib/python3.11/dist-packages (from aif360) (2.0.2)\n",
            "Requirement already satisfied: scipy>=1.2.0 in /usr/local/lib/python3.11/dist-packages (from aif360) (1.15.3)\n",
            "Requirement already satisfied: pandas>=0.24.0 in /usr/local/lib/python3.11/dist-packages (from aif360) (2.2.2)\n",
            "Requirement already satisfied: scikit-learn>=1.0 in /usr/local/lib/python3.11/dist-packages (from aif360) (1.6.1)\n",
            "Requirement already satisfied: matplotlib in /usr/local/lib/python3.11/dist-packages (from aif360) (3.10.0)\n",
            "Requirement already satisfied: python-dateutil>=2.8.2 in /usr/local/lib/python3.11/dist-packages (from pandas>=0.24.0->aif360) (2.9.0.post0)\n",
            "Requirement already satisfied: pytz>=2020.1 in /usr/local/lib/python3.11/dist-packages (from pandas>=0.24.0->aif360) (2025.2)\n",
            "Requirement already satisfied: tzdata>=2022.7 in /usr/local/lib/python3.11/dist-packages (from pandas>=0.24.0->aif360) (2025.2)\n",
            "Requirement already satisfied: joblib>=1.2.0 in /usr/local/lib/python3.11/dist-packages (from scikit-learn>=1.0->aif360) (1.5.1)\n",
            "Requirement already satisfied: threadpoolctl>=3.1.0 in /usr/local/lib/python3.11/dist-packages (from scikit-learn>=1.0->aif360) (3.6.0)\n",
            "Requirement already satisfied: contourpy>=1.0.1 in /usr/local/lib/python3.11/dist-packages (from matplotlib->aif360) (1.3.2)\n",
            "Requirement already satisfied: cycler>=0.10 in /usr/local/lib/python3.11/dist-packages (from matplotlib->aif360) (0.12.1)\n",
            "Requirement already satisfied: fonttools>=4.22.0 in /usr/local/lib/python3.11/dist-packages (from matplotlib->aif360) (4.58.4)\n",
            "Requirement already satisfied: kiwisolver>=1.3.1 in /usr/local/lib/python3.11/dist-packages (from matplotlib->aif360) (1.4.8)\n",
            "Requirement already satisfied: packaging>=20.0 in /usr/local/lib/python3.11/dist-packages (from matplotlib->aif360) (24.2)\n",
            "Requirement already satisfied: pillow>=8 in /usr/local/lib/python3.11/dist-packages (from matplotlib->aif360) (11.2.1)\n",
            "Requirement already satisfied: pyparsing>=2.3.1 in /usr/local/lib/python3.11/dist-packages (from matplotlib->aif360) (3.2.3)\n",
            "Requirement already satisfied: six>=1.5 in /usr/local/lib/python3.11/dist-packages (from python-dateutil>=2.8.2->pandas>=0.24.0->aif360) (1.17.0)\n",
            "Downloading aif360-0.6.1-py3-none-any.whl (259 kB)\n",
            "\u001b[2K   \u001b[90m━━━━━━━━━━━━━━━━━━━━━━━━━━━━━━━━━━━━━━━━\u001b[0m \u001b[32m259.7/259.7 kB\u001b[0m \u001b[31m5.1 MB/s\u001b[0m eta \u001b[36m0:00:00\u001b[0m\n",
            "\u001b[?25hInstalling collected packages: aif360\n",
            "Successfully installed aif360-0.6.1\n"
          ]
        }
      ]
    },
    {
      "cell_type": "code",
      "source": [
        "import os\n",
        "\n",
        "# Step 1: Download files\n",
        "!wget -P /tmp https://archive.ics.uci.edu/ml/machine-learning-databases/adult/adult.data\n",
        "!wget -P /tmp https://archive.ics.uci.edu/ml/machine-learning-databases/adult/adult.test\n",
        "!wget -P /tmp https://archive.ics.uci.edu/ml/machine-learning-databases/adult/adult.names\n",
        "\n",
        "# Step 2: Create the expected folder\n",
        "aif360_path = \"/usr/local/lib/python3.11/dist-packages/aif360/data/raw/adult/\"\n",
        "os.makedirs(aif360_path, exist_ok=True)\n",
        "\n",
        "# Step 3: Move files\n",
        "!cp /tmp/adult.* {aif360_path}"
      ],
      "metadata": {
        "colab": {
          "base_uri": "https://localhost:8080/"
        },
        "id": "tbWG_zUSU-7b",
        "outputId": "f36ae070-db80-4209-e759-9e88d177651b"
      },
      "execution_count": 4,
      "outputs": [
        {
          "output_type": "stream",
          "name": "stdout",
          "text": [
            "--2025-07-02 08:49:49--  https://archive.ics.uci.edu/ml/machine-learning-databases/adult/adult.data\n",
            "Resolving archive.ics.uci.edu (archive.ics.uci.edu)... 128.195.10.252\n",
            "Connecting to archive.ics.uci.edu (archive.ics.uci.edu)|128.195.10.252|:443... connected.\n",
            "HTTP request sent, awaiting response... 200 OK\n",
            "Length: unspecified\n",
            "Saving to: ‘/tmp/adult.data’\n",
            "\n",
            "adult.data              [  <=>               ]   3.79M  9.50MB/s    in 0.4s    \n",
            "\n",
            "2025-07-02 08:49:49 (9.50 MB/s) - ‘/tmp/adult.data’ saved [3974305]\n",
            "\n",
            "--2025-07-02 08:49:49--  https://archive.ics.uci.edu/ml/machine-learning-databases/adult/adult.test\n",
            "Resolving archive.ics.uci.edu (archive.ics.uci.edu)... 128.195.10.252\n",
            "Connecting to archive.ics.uci.edu (archive.ics.uci.edu)|128.195.10.252|:443... connected.\n",
            "HTTP request sent, awaiting response... 200 OK\n",
            "Length: unspecified\n",
            "Saving to: ‘/tmp/adult.test’\n",
            "\n",
            "adult.test              [  <=>               ]   1.91M  5.54MB/s    in 0.3s    \n",
            "\n",
            "2025-07-02 08:49:50 (5.54 MB/s) - ‘/tmp/adult.test’ saved [2003153]\n",
            "\n",
            "--2025-07-02 08:49:50--  https://archive.ics.uci.edu/ml/machine-learning-databases/adult/adult.names\n",
            "Resolving archive.ics.uci.edu (archive.ics.uci.edu)... 128.195.10.252\n",
            "Connecting to archive.ics.uci.edu (archive.ics.uci.edu)|128.195.10.252|:443... connected.\n",
            "HTTP request sent, awaiting response... 200 OK\n",
            "Length: unspecified\n",
            "Saving to: ‘/tmp/adult.names’\n",
            "\n",
            "adult.names             [ <=>                ]   5.11K  --.-KB/s    in 0s      \n",
            "\n",
            "2025-07-02 08:49:50 (63.0 MB/s) - ‘/tmp/adult.names’ saved [5229]\n",
            "\n"
          ]
        }
      ]
    },
    {
      "cell_type": "code",
      "source": [
        "# 📦 Import Libraries\n",
        "import pandas as pd\n",
        "import numpy as np\n",
        "import matplotlib.pyplot as plt\n",
        "import seaborn as sns\n",
        "\n",
        "from sklearn.linear_model import LogisticRegression\n",
        "from sklearn.metrics import accuracy_score, confusion_matrix, classification_report\n",
        "\n",
        "from aif360.datasets import AdultDataset\n",
        "from aif360.metrics import BinaryLabelDatasetMetric, ClassificationMetric\n",
        "from aif360.algorithms.preprocessing import Reweighing\n",
        "# 📊 Load Dataset\n",
        "dataset = AdultDataset()\n",
        "train, test = dataset.split([0.7], shuffle=True)\n",
        "\n",
        "# Define privileged/unprivileged groups by gender\n",
        "privileged_groups = [{'sex': 1}]  # Male\n",
        "unprivileged_groups = [{'sex': 0}]  # Female"
      ],
      "metadata": {
        "colab": {
          "base_uri": "https://localhost:8080/"
        },
        "id": "dzFfiD62UmGU",
        "outputId": "1d728d37-66c3-4f0f-9464-998f2cc7776c"
      },
      "execution_count": 5,
      "outputs": [
        {
          "output_type": "stream",
          "name": "stderr",
          "text": [
            "WARNING:root:Missing Data: 3620 rows removed from AdultDataset.\n"
          ]
        }
      ]
    },
    {
      "cell_type": "markdown",
      "source": [
        " 4. Baseline Fairness Metrics"
      ],
      "metadata": {
        "id": "ksSrfg6FVH4m"
      }
    },
    {
      "cell_type": "code",
      "source": [
        "#  Baseline Fairness Metrics\n",
        "metric_train = BinaryLabelDatasetMetric(train, privileged_groups=privileged_groups, unprivileged_groups=unprivileged_groups)\n",
        "print(\"Baseline Disparate Impact:\", metric_train.disparate_impact())\n",
        "print(\"Baseline Mean Difference:\", metric_train.mean_difference())\n"
      ],
      "metadata": {
        "colab": {
          "base_uri": "https://localhost:8080/"
        },
        "id": "ueasvGQKVIO_",
        "outputId": "fc30a2c4-61b9-421f-b9fe-e95146457b73"
      },
      "execution_count": 6,
      "outputs": [
        {
          "output_type": "stream",
          "name": "stdout",
          "text": [
            "Baseline Disparate Impact: 0.3746898584948166\n",
            "Baseline Mean Difference: -0.19556988981472773\n"
          ]
        }
      ]
    },
    {
      "cell_type": "markdown",
      "source": [
        "5. Apply Reweighing"
      ],
      "metadata": {
        "id": "hqwL-rJNVNK2"
      }
    },
    {
      "cell_type": "code",
      "source": [
        "# ⚙ Apply Reweighing\n",
        "rw = Reweighing(unprivileged_groups=unprivileged_groups, privileged_groups=privileged_groups)\n",
        "train_rw = rw.fit_transform(train)\n"
      ],
      "metadata": {
        "id": "dJKmUD97VNkz"
      },
      "execution_count": 7,
      "outputs": []
    },
    {
      "cell_type": "markdown",
      "source": [
        "6. Train Logistic Regression Model"
      ],
      "metadata": {
        "id": "hurjVOHZVQpx"
      }
    },
    {
      "cell_type": "code",
      "source": [
        "# 🧠 Train Logistic Regression\n",
        "X_train = train_rw.features\n",
        "y_train = train_rw.labels.ravel()\n",
        "\n",
        "X_test = test.features\n",
        "y_test = test.labels.ravel()\n",
        "\n",
        "clf = LogisticRegression(solver='liblinear')\n",
        "clf.fit(X_train, y_train, sample_weight=train_rw.instance_weights)\n",
        "\n",
        "y_pred = clf.predict(X_test)\n",
        "\n",
        "print(\"Accuracy:\", accuracy_score(y_test, y_pred))\n",
        "print(\"Classification Report:\\n\", classification_report(y_test, y_pred))\n"
      ],
      "metadata": {
        "colab": {
          "base_uri": "https://localhost:8080/"
        },
        "id": "T3jnj3vIVRBb",
        "outputId": "85b2bf03-be0b-4499-f4dd-899f1667a93c"
      },
      "execution_count": 8,
      "outputs": [
        {
          "output_type": "stream",
          "name": "stdout",
          "text": [
            "Accuracy: 0.8427065674062062\n",
            "Classification Report:\n",
            "               precision    recall  f1-score   support\n",
            "\n",
            "         0.0       0.87      0.94      0.90     10260\n",
            "         1.0       0.74      0.55      0.63      3307\n",
            "\n",
            "    accuracy                           0.84     13567\n",
            "   macro avg       0.80      0.74      0.76     13567\n",
            "weighted avg       0.83      0.84      0.83     13567\n",
            "\n"
          ]
        }
      ]
    },
    {
      "cell_type": "markdown",
      "source": [
        "7. Post-Mitigation Fairness Metrics"
      ],
      "metadata": {
        "id": "xyIFNOmcVgeC"
      }
    },
    {
      "cell_type": "code",
      "source": [
        "# 🔍 Post-Mitigation Fairness Metrics\n",
        "test_pred = test.copy()\n",
        "test_pred.labels = y_pred\n",
        "\n",
        "metric_test = ClassificationMetric(test, test_pred, unprivileged_groups=unprivileged_groups, privileged_groups=privileged_groups)\n",
        "print(\"Post-Reweighing Disparate Impact:\", metric_test.disparate_impact())\n",
        "print(\"Equal Opportunity Difference:\", metric_test.equal_opportunity_difference())\n",
        "print(\"Average Odds Difference:\", metric_test.average_odds_difference())\n"
      ],
      "metadata": {
        "colab": {
          "base_uri": "https://localhost:8080/"
        },
        "id": "RbGnDPvPVg0X",
        "outputId": "1aafb609-4c84-4942-ab8d-2c1c0a23031e"
      },
      "execution_count": 9,
      "outputs": [
        {
          "output_type": "stream",
          "name": "stdout",
          "text": [
            "Post-Reweighing Disparate Impact: 0.6019168271488292\n",
            "Equal Opportunity Difference: 0.150476584046787\n",
            "Average Odds Difference: 0.0736311486742252\n"
          ]
        }
      ]
    },
    {
      "cell_type": "markdown",
      "source": [
        "8. Confusion Matrix"
      ],
      "metadata": {
        "id": "HNwxzjjEVk0R"
      }
    },
    {
      "cell_type": "code",
      "source": [
        "# 📈 Confusion Matrix\n",
        "cm = confusion_matrix(y_test, y_pred)\n",
        "sns.heatmap(cm, annot=True, fmt='d', cmap='Blues', xticklabels=[\"<=50K\", \">50K\"], yticklabels=[\"<=50K\", \">50K\"])\n",
        "plt.xlabel(\"Predicted\")\n",
        "plt.ylabel(\"Actual\")\n",
        "plt.title(\"Confusion Matrix\")\n",
        "plt.show()\n"
      ],
      "metadata": {
        "colab": {
          "base_uri": "https://localhost:8080/",
          "height": 472
        },
        "id": "vrQEUqvPVlK5",
        "outputId": "ab1f6cb8-fdfe-4d43-90c1-927820364be8"
      },
      "execution_count": 10,
      "outputs": [
        {
          "output_type": "display_data",
          "data": {
            "text/plain": [
              "<Figure size 640x480 with 2 Axes>"
            ],
            "image/png": "[encoded data removed]"
          },
          "metadata": {}
        }
      ]
    },
    {
      "cell_type": "markdown",
      "source": [
        "## 9. Final Discussion\n",
        "\n",
        "This project identified and mitigated gender bias in an income classification task using the Adult dataset. The original model had a significant disparate impact against female individuals.\n",
        "\n",
        "After applying the Reweighing technique from AIF360, fairness metrics improved substantially while maintaining predictive accuracy.\n",
        "\n",
        "**Strengths:**\n",
        "- Efficient preprocessing method.\n",
        "- Improved fairness without major performance loss.\n",
        "\n",
        "**Limitations:**\n",
        "- Doesn't eliminate bias in complex pipelines.\n",
        "- Only corrects for observed attributes (here, gender).\n",
        "\n",
        "**Implications:**\n",
        "- Promotes fairer automated decisions in employment or financial contexts.\n",
        "- Encourages companies to adopt fairness-aware machine learning practices.\n"
      ],
      "metadata": {
        "id": "uTDKJvlkVpHo"
      }
    },
    {
      "cell_type": "markdown",
      "source": [],
      "metadata": {
        "id": "qk4BWS1kUj0C"
      }
    }
  ]
}